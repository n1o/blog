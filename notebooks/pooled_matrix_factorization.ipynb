{
 "cells": [
  {
   "cell_type": "code",
   "execution_count": 1,
   "id": "secret-mapping",
   "metadata": {},
   "outputs": [],
   "source": [
    "import torch\n",
    "import pyro\n",
    "import pandas as pd\n",
    "import altair as alt\n",
    "import seaborn as sns\n",
    "import numpy as np\n",
    "import pyro.distributions as dist\n",
    "from pyro.infer import SVI, Trace_ELBO\n",
    "from pyro.infer.autoguide import AutoDiagonalNormal\n",
    "from pyro.optim import Adam"
   ]
  },
  {
   "cell_type": "code",
   "execution_count": null,
   "id": "current-occasions",
   "metadata": {},
   "outputs": [],
   "source": []
  },
  {
   "cell_type": "code",
   "execution_count": 2,
   "id": "wireless-green",
   "metadata": {},
   "outputs": [],
   "source": [
    "df = pd.read_hdf(\"data/watch_minutes.hdf\")"
   ]
  },
  {
   "cell_type": "code",
   "execution_count": 3,
   "id": "handy-recovery",
   "metadata": {},
   "outputs": [
    {
     "data": {
      "text/html": [
       "<div>\n",
       "<style scoped>\n",
       "    .dataframe tbody tr th:only-of-type {\n",
       "        vertical-align: middle;\n",
       "    }\n",
       "\n",
       "    .dataframe tbody tr th {\n",
       "        vertical-align: top;\n",
       "    }\n",
       "\n",
       "    .dataframe thead th {\n",
       "        text-align: right;\n",
       "    }\n",
       "</style>\n",
       "<table border=\"1\" class=\"dataframe\">\n",
       "  <thead>\n",
       "    <tr style=\"text-align: right;\">\n",
       "      <th></th>\n",
       "      <th>user_id</th>\n",
       "      <th>video_id</th>\n",
       "      <th>watched_minutes</th>\n",
       "    </tr>\n",
       "  </thead>\n",
       "  <tbody>\n",
       "    <tr>\n",
       "      <th>0</th>\n",
       "      <td>0</td>\n",
       "      <td>0</td>\n",
       "      <td>1</td>\n",
       "    </tr>\n",
       "    <tr>\n",
       "      <th>1</th>\n",
       "      <td>0</td>\n",
       "      <td>39</td>\n",
       "      <td>3</td>\n",
       "    </tr>\n",
       "    <tr>\n",
       "      <th>2</th>\n",
       "      <td>0</td>\n",
       "      <td>52</td>\n",
       "      <td>27</td>\n",
       "    </tr>\n",
       "    <tr>\n",
       "      <th>3</th>\n",
       "      <td>0</td>\n",
       "      <td>53</td>\n",
       "      <td>85</td>\n",
       "    </tr>\n",
       "    <tr>\n",
       "      <th>4</th>\n",
       "      <td>0</td>\n",
       "      <td>62</td>\n",
       "      <td>88</td>\n",
       "    </tr>\n",
       "    <tr>\n",
       "      <th>...</th>\n",
       "      <td>...</td>\n",
       "      <td>...</td>\n",
       "      <td>...</td>\n",
       "    </tr>\n",
       "    <tr>\n",
       "      <th>29306</th>\n",
       "      <td>12623</td>\n",
       "      <td>116</td>\n",
       "      <td>1</td>\n",
       "    </tr>\n",
       "    <tr>\n",
       "      <th>29307</th>\n",
       "      <td>12624</td>\n",
       "      <td>119</td>\n",
       "      <td>32</td>\n",
       "    </tr>\n",
       "    <tr>\n",
       "      <th>29308</th>\n",
       "      <td>12625</td>\n",
       "      <td>119</td>\n",
       "      <td>6</td>\n",
       "    </tr>\n",
       "    <tr>\n",
       "      <th>29309</th>\n",
       "      <td>12626</td>\n",
       "      <td>53</td>\n",
       "      <td>16</td>\n",
       "    </tr>\n",
       "    <tr>\n",
       "      <th>29310</th>\n",
       "      <td>12627</td>\n",
       "      <td>133</td>\n",
       "      <td>10</td>\n",
       "    </tr>\n",
       "  </tbody>\n",
       "</table>\n",
       "<p>29311 rows × 3 columns</p>\n",
       "</div>"
      ],
      "text/plain": [
       "       user_id  video_id  watched_minutes\n",
       "0            0         0                1\n",
       "1            0        39                3\n",
       "2            0        52               27\n",
       "3            0        53               85\n",
       "4            0        62               88\n",
       "...        ...       ...              ...\n",
       "29306    12623       116                1\n",
       "29307    12624       119               32\n",
       "29308    12625       119                6\n",
       "29309    12626        53               16\n",
       "29310    12627       133               10\n",
       "\n",
       "[29311 rows x 3 columns]"
      ]
     },
     "execution_count": 3,
     "metadata": {},
     "output_type": "execute_result"
    }
   ],
   "source": [
    "df"
   ]
  },
  {
   "cell_type": "code",
   "execution_count": 4,
   "id": "collected-government",
   "metadata": {},
   "outputs": [
    {
     "data": {
      "text/html": [
       "<div>\n",
       "<style scoped>\n",
       "    .dataframe tbody tr th:only-of-type {\n",
       "        vertical-align: middle;\n",
       "    }\n",
       "\n",
       "    .dataframe tbody tr th {\n",
       "        vertical-align: top;\n",
       "    }\n",
       "\n",
       "    .dataframe thead th {\n",
       "        text-align: right;\n",
       "    }\n",
       "</style>\n",
       "<table border=\"1\" class=\"dataframe\">\n",
       "  <thead>\n",
       "    <tr style=\"text-align: right;\">\n",
       "      <th></th>\n",
       "      <th>user_id</th>\n",
       "      <th>video_id</th>\n",
       "    </tr>\n",
       "  </thead>\n",
       "  <tbody>\n",
       "    <tr>\n",
       "      <th>0</th>\n",
       "      <td>0</td>\n",
       "      <td>38</td>\n",
       "    </tr>\n",
       "    <tr>\n",
       "      <th>1</th>\n",
       "      <td>1</td>\n",
       "      <td>2</td>\n",
       "    </tr>\n",
       "    <tr>\n",
       "      <th>2</th>\n",
       "      <td>2</td>\n",
       "      <td>5</td>\n",
       "    </tr>\n",
       "    <tr>\n",
       "      <th>3</th>\n",
       "      <td>3</td>\n",
       "      <td>3</td>\n",
       "    </tr>\n",
       "    <tr>\n",
       "      <th>4</th>\n",
       "      <td>4</td>\n",
       "      <td>3</td>\n",
       "    </tr>\n",
       "    <tr>\n",
       "      <th>...</th>\n",
       "      <td>...</td>\n",
       "      <td>...</td>\n",
       "    </tr>\n",
       "    <tr>\n",
       "      <th>12623</th>\n",
       "      <td>12623</td>\n",
       "      <td>1</td>\n",
       "    </tr>\n",
       "    <tr>\n",
       "      <th>12624</th>\n",
       "      <td>12624</td>\n",
       "      <td>1</td>\n",
       "    </tr>\n",
       "    <tr>\n",
       "      <th>12625</th>\n",
       "      <td>12625</td>\n",
       "      <td>1</td>\n",
       "    </tr>\n",
       "    <tr>\n",
       "      <th>12626</th>\n",
       "      <td>12626</td>\n",
       "      <td>1</td>\n",
       "    </tr>\n",
       "    <tr>\n",
       "      <th>12627</th>\n",
       "      <td>12627</td>\n",
       "      <td>1</td>\n",
       "    </tr>\n",
       "  </tbody>\n",
       "</table>\n",
       "<p>12628 rows × 2 columns</p>\n",
       "</div>"
      ],
      "text/plain": [
       "       user_id  video_id\n",
       "0            0        38\n",
       "1            1         2\n",
       "2            2         5\n",
       "3            3         3\n",
       "4            4         3\n",
       "...        ...       ...\n",
       "12623    12623         1\n",
       "12624    12624         1\n",
       "12625    12625         1\n",
       "12626    12626         1\n",
       "12627    12627         1\n",
       "\n",
       "[12628 rows x 2 columns]"
      ]
     },
     "execution_count": 4,
     "metadata": {},
     "output_type": "execute_result"
    }
   ],
   "source": [
    "users = df.groupby('user_id', as_index=False).agg({'video_id': len})\n",
    "users\n",
    "# sns.kdeplot(users['video_id'])"
   ]
  },
  {
   "cell_type": "code",
   "execution_count": 5,
   "id": "wrapped-stations",
   "metadata": {},
   "outputs": [],
   "source": [
    "pivot = df.pivot(index=\"user_id\", columns=\"video_id\", values=\"watched_minutes\")"
   ]
  },
  {
   "cell_type": "code",
   "execution_count": 6,
   "id": "fallen-resistance",
   "metadata": {},
   "outputs": [
    {
     "data": {
      "text/html": [
       "<div>\n",
       "<style scoped>\n",
       "    .dataframe tbody tr th:only-of-type {\n",
       "        vertical-align: middle;\n",
       "    }\n",
       "\n",
       "    .dataframe tbody tr th {\n",
       "        vertical-align: top;\n",
       "    }\n",
       "\n",
       "    .dataframe thead th {\n",
       "        text-align: right;\n",
       "    }\n",
       "</style>\n",
       "<table border=\"1\" class=\"dataframe\">\n",
       "  <thead>\n",
       "    <tr style=\"text-align: right;\">\n",
       "      <th>video_id</th>\n",
       "      <th>0</th>\n",
       "      <th>1</th>\n",
       "      <th>2</th>\n",
       "      <th>3</th>\n",
       "      <th>4</th>\n",
       "      <th>5</th>\n",
       "      <th>6</th>\n",
       "      <th>7</th>\n",
       "      <th>8</th>\n",
       "      <th>9</th>\n",
       "      <th>...</th>\n",
       "      <th>555</th>\n",
       "      <th>556</th>\n",
       "      <th>557</th>\n",
       "      <th>558</th>\n",
       "      <th>559</th>\n",
       "      <th>560</th>\n",
       "      <th>561</th>\n",
       "      <th>562</th>\n",
       "      <th>563</th>\n",
       "      <th>564</th>\n",
       "    </tr>\n",
       "    <tr>\n",
       "      <th>user_id</th>\n",
       "      <th></th>\n",
       "      <th></th>\n",
       "      <th></th>\n",
       "      <th></th>\n",
       "      <th></th>\n",
       "      <th></th>\n",
       "      <th></th>\n",
       "      <th></th>\n",
       "      <th></th>\n",
       "      <th></th>\n",
       "      <th></th>\n",
       "      <th></th>\n",
       "      <th></th>\n",
       "      <th></th>\n",
       "      <th></th>\n",
       "      <th></th>\n",
       "      <th></th>\n",
       "      <th></th>\n",
       "      <th></th>\n",
       "      <th></th>\n",
       "      <th></th>\n",
       "    </tr>\n",
       "  </thead>\n",
       "  <tbody>\n",
       "    <tr>\n",
       "      <th>0</th>\n",
       "      <td>1.0</td>\n",
       "      <td>NaN</td>\n",
       "      <td>NaN</td>\n",
       "      <td>NaN</td>\n",
       "      <td>NaN</td>\n",
       "      <td>NaN</td>\n",
       "      <td>NaN</td>\n",
       "      <td>NaN</td>\n",
       "      <td>NaN</td>\n",
       "      <td>NaN</td>\n",
       "      <td>...</td>\n",
       "      <td>NaN</td>\n",
       "      <td>NaN</td>\n",
       "      <td>NaN</td>\n",
       "      <td>NaN</td>\n",
       "      <td>NaN</td>\n",
       "      <td>NaN</td>\n",
       "      <td>NaN</td>\n",
       "      <td>NaN</td>\n",
       "      <td>NaN</td>\n",
       "      <td>NaN</td>\n",
       "    </tr>\n",
       "    <tr>\n",
       "      <th>1</th>\n",
       "      <td>1.0</td>\n",
       "      <td>NaN</td>\n",
       "      <td>NaN</td>\n",
       "      <td>NaN</td>\n",
       "      <td>NaN</td>\n",
       "      <td>NaN</td>\n",
       "      <td>NaN</td>\n",
       "      <td>NaN</td>\n",
       "      <td>NaN</td>\n",
       "      <td>NaN</td>\n",
       "      <td>...</td>\n",
       "      <td>NaN</td>\n",
       "      <td>NaN</td>\n",
       "      <td>NaN</td>\n",
       "      <td>NaN</td>\n",
       "      <td>NaN</td>\n",
       "      <td>NaN</td>\n",
       "      <td>NaN</td>\n",
       "      <td>NaN</td>\n",
       "      <td>NaN</td>\n",
       "      <td>NaN</td>\n",
       "    </tr>\n",
       "    <tr>\n",
       "      <th>2</th>\n",
       "      <td>NaN</td>\n",
       "      <td>3.0</td>\n",
       "      <td>NaN</td>\n",
       "      <td>NaN</td>\n",
       "      <td>NaN</td>\n",
       "      <td>NaN</td>\n",
       "      <td>NaN</td>\n",
       "      <td>8.0</td>\n",
       "      <td>NaN</td>\n",
       "      <td>NaN</td>\n",
       "      <td>...</td>\n",
       "      <td>NaN</td>\n",
       "      <td>NaN</td>\n",
       "      <td>NaN</td>\n",
       "      <td>NaN</td>\n",
       "      <td>NaN</td>\n",
       "      <td>NaN</td>\n",
       "      <td>NaN</td>\n",
       "      <td>NaN</td>\n",
       "      <td>NaN</td>\n",
       "      <td>NaN</td>\n",
       "    </tr>\n",
       "    <tr>\n",
       "      <th>3</th>\n",
       "      <td>NaN</td>\n",
       "      <td>4.0</td>\n",
       "      <td>NaN</td>\n",
       "      <td>NaN</td>\n",
       "      <td>NaN</td>\n",
       "      <td>NaN</td>\n",
       "      <td>NaN</td>\n",
       "      <td>NaN</td>\n",
       "      <td>NaN</td>\n",
       "      <td>NaN</td>\n",
       "      <td>...</td>\n",
       "      <td>NaN</td>\n",
       "      <td>NaN</td>\n",
       "      <td>NaN</td>\n",
       "      <td>NaN</td>\n",
       "      <td>NaN</td>\n",
       "      <td>NaN</td>\n",
       "      <td>NaN</td>\n",
       "      <td>NaN</td>\n",
       "      <td>NaN</td>\n",
       "      <td>NaN</td>\n",
       "    </tr>\n",
       "    <tr>\n",
       "      <th>4</th>\n",
       "      <td>NaN</td>\n",
       "      <td>1.0</td>\n",
       "      <td>NaN</td>\n",
       "      <td>NaN</td>\n",
       "      <td>NaN</td>\n",
       "      <td>NaN</td>\n",
       "      <td>NaN</td>\n",
       "      <td>NaN</td>\n",
       "      <td>NaN</td>\n",
       "      <td>NaN</td>\n",
       "      <td>...</td>\n",
       "      <td>NaN</td>\n",
       "      <td>NaN</td>\n",
       "      <td>NaN</td>\n",
       "      <td>NaN</td>\n",
       "      <td>NaN</td>\n",
       "      <td>NaN</td>\n",
       "      <td>NaN</td>\n",
       "      <td>NaN</td>\n",
       "      <td>NaN</td>\n",
       "      <td>NaN</td>\n",
       "    </tr>\n",
       "  </tbody>\n",
       "</table>\n",
       "<p>5 rows × 565 columns</p>\n",
       "</div>"
      ],
      "text/plain": [
       "video_id  0    1    2    3    4    5    6    7    8    9    ...  555  556  \\\n",
       "user_id                                                     ...             \n",
       "0         1.0  NaN  NaN  NaN  NaN  NaN  NaN  NaN  NaN  NaN  ...  NaN  NaN   \n",
       "1         1.0  NaN  NaN  NaN  NaN  NaN  NaN  NaN  NaN  NaN  ...  NaN  NaN   \n",
       "2         NaN  3.0  NaN  NaN  NaN  NaN  NaN  8.0  NaN  NaN  ...  NaN  NaN   \n",
       "3         NaN  4.0  NaN  NaN  NaN  NaN  NaN  NaN  NaN  NaN  ...  NaN  NaN   \n",
       "4         NaN  1.0  NaN  NaN  NaN  NaN  NaN  NaN  NaN  NaN  ...  NaN  NaN   \n",
       "\n",
       "video_id  557  558  559  560  561  562  563  564  \n",
       "user_id                                           \n",
       "0         NaN  NaN  NaN  NaN  NaN  NaN  NaN  NaN  \n",
       "1         NaN  NaN  NaN  NaN  NaN  NaN  NaN  NaN  \n",
       "2         NaN  NaN  NaN  NaN  NaN  NaN  NaN  NaN  \n",
       "3         NaN  NaN  NaN  NaN  NaN  NaN  NaN  NaN  \n",
       "4         NaN  NaN  NaN  NaN  NaN  NaN  NaN  NaN  \n",
       "\n",
       "[5 rows x 565 columns]"
      ]
     },
     "execution_count": 6,
     "metadata": {},
     "output_type": "execute_result"
    }
   ],
   "source": [
    "pivot.head()"
   ]
  },
  {
   "cell_type": "code",
   "execution_count": 7,
   "id": "demanding-tuesday",
   "metadata": {},
   "outputs": [
    {
     "data": {
      "text/plain": [
       "user_id\n",
       "10       179\n",
       "142      101\n",
       "1442      63\n",
       "1432      46\n",
       "1484      44\n",
       "        ... \n",
       "2831       1\n",
       "7345       1\n",
       "2832       1\n",
       "2833       1\n",
       "12627      1\n",
       "Length: 12628, dtype: int64"
      ]
     },
     "execution_count": 7,
     "metadata": {},
     "output_type": "execute_result"
    }
   ],
   "source": [
    "pd.notna(pivot).sum(axis=1).sort_values(ascending=False)"
   ]
  },
  {
   "cell_type": "code",
   "execution_count": 8,
   "id": "indonesian-spice",
   "metadata": {},
   "outputs": [
    {
     "data": {
      "text/plain": [
       "0.004108162504450008"
      ]
     },
     "execution_count": 8,
     "metadata": {},
     "output_type": "execute_result"
    }
   ],
   "source": [
    "1 - np.sum(np.sum(pd.isna(pivot))) / (pivot.shape[0] * pivot.shape[1])"
   ]
  },
  {
   "cell_type": "code",
   "execution_count": 9,
   "id": "casual-audio",
   "metadata": {},
   "outputs": [],
   "source": [
    "def split_train_test(data, percent_test=0.1):\n",
    "\n",
    "    n, m = data.shape\n",
    "    N = n * m\n",
    "\n",
    "   \n",
    "    train = data.copy()\n",
    "    test = np.ones(data.shape) * np.nan\n",
    "\n",
    "   \n",
    "    tosample = np.where(~np.isnan(train)) \n",
    "    idx_pairs = list(zip(tosample[0], tosample[1])) \n",
    "\n",
    "    test_size = int(len(idx_pairs) * percent_test)  \n",
    "    train_size = len(idx_pairs) - test_size \n",
    "\n",
    "    indices = np.arange(len(idx_pairs))\n",
    "    sample = np.random.choice(indices, replace=False, size=test_size)\n",
    "\n",
    "    \n",
    "    for idx in sample:\n",
    "        idx_pair = idx_pairs[idx]\n",
    "        test[idx_pair] = train[idx_pair] \n",
    "        train[idx_pair] = np.nan\n",
    "\n",
    "   \n",
    "    assert train_size == N - np.isnan(train).sum()\n",
    "    assert test_size == N - np.isnan(test).sum()\n",
    "\n",
    "    return train, test"
   ]
  },
  {
   "cell_type": "code",
   "execution_count": 10,
   "id": "chief-handbook",
   "metadata": {},
   "outputs": [],
   "source": [
    "data = pivot.values"
   ]
  },
  {
   "cell_type": "code",
   "execution_count": 11,
   "id": "danish-target",
   "metadata": {},
   "outputs": [],
   "source": [
    "train, test = split_train_test(data)"
   ]
  },
  {
   "cell_type": "code",
   "execution_count": null,
   "id": "solid-secret",
   "metadata": {},
   "outputs": [],
   "source": []
  },
  {
   "cell_type": "code",
   "execution_count": 12,
   "id": "confidential-congress",
   "metadata": {},
   "outputs": [],
   "source": [
    " def model(alpha, dim, n, m, nan_mask, not_na, data):\n",
    "        \"\"\"\n",
    "        Perform matrix factorization\n",
    "        R = U @ V.T\n",
    "        \"\"\"\n",
    "        alpha_loc = torch.tensor(1 / 25)\n",
    "\n",
    "        loc_u = pyro.sample(\n",
    "            \"loc_u\",\n",
    "            dist.MultivariateNormal(\n",
    "                loc=torch.zeros(dim),\n",
    "                precision_matrix=torch.eye(dim) * alpha_loc,\n",
    "            ),\n",
    "        )\n",
    "        precission_u = pyro.sample(\n",
    "            \"precission_u\",\n",
    "            dist.LKJCorrCholesky(\n",
    "                d=dim, eta=torch.tensor(alpha)\n",
    "            ),\n",
    "        )\n",
    "\n",
    "        observations_scale = pyro.sample(\n",
    "            \"obs_scale\",\n",
    "            dist.InverseGamma(\n",
    "                concentration=torch.tensor(1.0),\n",
    "                rate=torch.tensor(1.0),\n",
    "            ),\n",
    "        )\n",
    "\n",
    "        with pyro.plate(\"users\", n):\n",
    "            U = pyro.sample(\n",
    "                \"U\", dist.MultivariateNormal(loc=loc_u, precision_matrix=precission_u)\n",
    "            )\n",
    "        with pyro.plate(\"content\", m):\n",
    "            V = pyro.sample(\n",
    "                \"V\", dist.MultivariateNormal(loc=torch.zeros(dim), precision_matrix=torch.eye(dim))\n",
    "            )\n",
    "        with pyro.plate(\"observations\", not_na):\n",
    "            R = pyro.sample(\n",
    "                \"R\",\n",
    "                dist.Normal(loc=(U @ V.T)[~nan_mask], scale=observations_scale),\n",
    "                obs=data,\n",
    "            )\n"
   ]
  },
  {
   "cell_type": "code",
   "execution_count": 13,
   "id": "naval-notification",
   "metadata": {},
   "outputs": [],
   "source": [
    "nan_mask = np.isnan(train)\n",
    "not_na = (~nan_mask).sum()\n",
    "data = torch.from_numpy(train[~nan_mask])\n"
   ]
  },
  {
   "cell_type": "code",
   "execution_count": 14,
   "id": "finnish-mining",
   "metadata": {},
   "outputs": [
    {
     "name": "stdout",
     "output_type": "stream",
     "text": [
      "[iteration 0001] loss: 644.0718\n",
      "[iteration 0101] loss: 502.1380\n",
      "[iteration 0201] loss: 496.0840\n",
      "[iteration 0301] loss: 346.9953\n",
      "[iteration 0401] loss: 237.2928\n",
      "[iteration 0501] loss: 322.2172\n",
      "[iteration 0601] loss: 270.6103\n",
      "[iteration 0701] loss: 202.9045\n",
      "[iteration 0801] loss: 204.7128\n",
      "[iteration 0901] loss: 160.3064\n",
      "[iteration 1001] loss: 128.2004\n",
      "[iteration 1101] loss: 176.9880\n",
      "[iteration 1201] loss: 104.5985\n",
      "[iteration 1301] loss: 109.4512\n",
      "[iteration 1401] loss: 95.3538\n",
      "[iteration 1501] loss: 98.5455\n",
      "[iteration 1601] loss: 78.9466\n",
      "[iteration 1701] loss: 60.2336\n",
      "[iteration 1801] loss: 95.6775\n",
      "[iteration 1901] loss: 50.0434\n",
      "[iteration 2001] loss: 71.7623\n",
      "[iteration 2101] loss: 57.0525\n",
      "[iteration 2201] loss: 43.2372\n",
      "[iteration 2301] loss: 44.0895\n",
      "[iteration 2401] loss: 35.2519\n",
      "[iteration 2501] loss: 34.2156\n",
      "[iteration 2601] loss: 35.2013\n",
      "[iteration 2701] loss: 29.6166\n",
      "[iteration 2801] loss: 34.2206\n",
      "[iteration 2901] loss: 26.6531\n"
     ]
    }
   ],
   "source": [
    "pyro.clear_param_store()\n",
    "guide = AutoDiagonalNormal(model)\n",
    "svi = SVI(model, guide, Adam({\"lr\": 0.001}), loss=Trace_ELBO())\n",
    "n, m = train.shape\n",
    "dim = 5\n",
    "alpha = 2.0\n",
    "iterations = 3000\n",
    "train_loss = []\n",
    "for i in range(iterations):\n",
    "    loss = svi.step(alpha, dim, n, m, nan_mask, not_na, data)\n",
    "    train_loss.append(loss / len(data))\n",
    "    if i % 100 == 0:\n",
    "        print(\"[iteration %04d] loss: %.4f\" % (i + 1, loss / len(data)))"
   ]
  },
  {
   "cell_type": "code",
   "execution_count": 15,
   "id": "present-verification",
   "metadata": {},
   "outputs": [],
   "source": [
    "V = guide.median()['V']\n",
    "U = guide.median()['U']\n",
    "\n",
    "R = U @ V.T"
   ]
  },
  {
   "cell_type": "code",
   "execution_count": 16,
   "id": "applied-charge",
   "metadata": {},
   "outputs": [
    {
     "data": {
      "text/plain": [
       "tensor([ 1.2819, -1.4941, -1.4945, -1.2986, -0.6687], grad_fn=<ViewBackward>)"
      ]
     },
     "execution_count": 16,
     "metadata": {},
     "output_type": "execute_result"
    }
   ],
   "source": [
    "guide.median()['loc_u']"
   ]
  },
  {
   "cell_type": "code",
   "execution_count": 17,
   "id": "random-designation",
   "metadata": {},
   "outputs": [
    {
     "data": {
      "text/plain": [
       "tensor([[ 1.0000,  0.0000,  0.0000,  0.0000,  0.0000],\n",
       "        [ 0.7657,  0.6432,  0.0000,  0.0000,  0.0000],\n",
       "        [ 0.5365, -0.6267,  0.5651,  0.0000,  0.0000],\n",
       "        [ 0.4181, -0.5684, -0.5341,  0.4657,  0.0000],\n",
       "        [ 0.3020, -0.4969, -0.5084, -0.5383,  0.3372]], grad_fn=<CopySlices>)"
      ]
     },
     "execution_count": 17,
     "metadata": {},
     "output_type": "execute_result"
    }
   ],
   "source": [
    "guide.median()['precission_u']"
   ]
  },
  {
   "cell_type": "code",
   "execution_count": 18,
   "id": "violent-airport",
   "metadata": {},
   "outputs": [],
   "source": [
    "U_pooled = dist.MultivariateNormal(loc = guide.median()['loc_u'], precision_matrix=guide.median()['precission_u'])"
   ]
  },
  {
   "cell_type": "code",
   "execution_count": 33,
   "id": "spoken-package",
   "metadata": {},
   "outputs": [],
   "source": [
    "generated_users = torch.from_numpy(np.array([U_pooled.sample().detach().numpy() for _ in range(1000)]))"
   ]
  },
  {
   "cell_type": "code",
   "execution_count": 20,
   "id": "central-laugh",
   "metadata": {},
   "outputs": [],
   "source": [
    "generated_users = torch.tensor(np.array(samples))"
   ]
  },
  {
   "cell_type": "code",
   "execution_count": 37,
   "id": "roman-grocery",
   "metadata": {},
   "outputs": [
    {
     "data": {
      "text/plain": [
       "torch.Size([1000, 565])"
      ]
     },
     "execution_count": 37,
     "metadata": {},
     "output_type": "execute_result"
    }
   ],
   "source": [
    "potential_watched_minutes = (generated_users @ V.T)\n",
    "potential_watched_minutes.shape"
   ]
  },
  {
   "cell_type": "code",
   "execution_count": 41,
   "id": "brazilian-reader",
   "metadata": {},
   "outputs": [],
   "source": [
    "average_potential_watched_minutes = potential_watched_minutes.mean(axis = 0)"
   ]
  },
  {
   "cell_type": "code",
   "execution_count": 42,
   "id": "extended-ghana",
   "metadata": {},
   "outputs": [
    {
     "data": {
      "text/plain": [
       "torch.Size([565])"
      ]
     },
     "execution_count": 42,
     "metadata": {},
     "output_type": "execute_result"
    }
   ],
   "source": [
    "average_potential_watched_minutes.shape"
   ]
  },
  {
   "cell_type": "code",
   "execution_count": null,
   "id": "communist-biography",
   "metadata": {},
   "outputs": [],
   "source": [
    "\n",
    "To wrap things up, probabilistic programming gives us superpowers. We are able to handle potential cases we have not seen before, by generating data from our model, and use those generated samples to make decisions."
   ]
  }
 ],
 "metadata": {
  "kernelspec": {
   "display_name": "Python 3",
   "language": "python",
   "name": "python3"
  },
  "language_info": {
   "codemirror_mode": {
    "name": "ipython",
    "version": 3
   },
   "file_extension": ".py",
   "mimetype": "text/x-python",
   "name": "python",
   "nbconvert_exporter": "python",
   "pygments_lexer": "ipython3",
   "version": "3.8.6"
  }
 },
 "nbformat": 4,
 "nbformat_minor": 5
}
